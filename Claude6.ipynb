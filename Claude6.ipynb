{
 "cells": [
  {
   "cell_type": "code",
   "execution_count": 9,
   "id": "70c365b0-5241-4b27-8d11-a0db70a7061c",
   "metadata": {},
   "outputs": [],
   "source": [
    "import pandas as pd\n",
    "import numpy as np\n",
    "from sklearn.preprocessing import OneHotEncoder, StandardScaler\n",
    "from sklearn.compose import ColumnTransformer\n",
    "from xgboost import XGBRegressor\n",
    "from pytorch_tabnet.tab_model import TabNetRegressor\n",
    "from sklearn.pipeline import Pipeline"
   ]
  },
  {
   "cell_type": "code",
   "execution_count": 10,
   "id": "c458b276-07e8-46af-81ba-1421159637f9",
   "metadata": {},
   "outputs": [],
   "source": [
    "train_data = pd.read_csv('Train.csv')\n",
    "test_data = pd.read_csv('Test.csv')"
   ]
  },
  {
   "cell_type": "code",
   "execution_count": 11,
   "id": "bb821a9a-2124-422c-a307-a4b79c85490d",
   "metadata": {},
   "outputs": [],
   "source": [
    "for data in [train_data, test_data]:\n",
    "    data['date'] = pd.to_datetime(data['date'])\n",
    "    data['year'] = data['date'].dt.year\n",
    "    data['month'] = data['date'].dt.month\n",
    "    data['day'] = data['date'].dt.day"
   ]
  },
  {
   "cell_type": "code",
   "execution_count": 12,
   "id": "1d49daa0-bef5-45e6-b176-477de9b7b33b",
   "metadata": {},
   "outputs": [],
   "source": [
    "drop_columns = ['id', 'site_id', 'date']\n",
    "categorical_features = ['city', 'country']\n",
    "numerical_features = ['year', 'month', 'day']"
   ]
  },
  {
   "cell_type": "code",
   "execution_count": 13,
   "id": "9d35f91a-e7e2-473a-b441-a5841ea05506",
   "metadata": {},
   "outputs": [],
   "source": [
    "for data in [train_data, test_data]:\n",
    "    for col in data.select_dtypes(include=np.number).columns:\n",
    "        if data[col].isnull().any():\n",
    "            data[col].fillna(data[col].median(), inplace=True)"
   ]
  },
  {
   "cell_type": "code",
   "execution_count": 14,
   "id": "74df7486-d2a8-4aee-a7cc-7dd93e457000",
   "metadata": {},
   "outputs": [],
   "source": [
    "X_train = train_data.drop(columns=drop_columns + ['pm2_5'])\n",
    "y_train = train_data['pm2_5']\n",
    "\n",
    "X_test = test_data.drop(columns=drop_columns)\n",
    "ids_test = test_data['id']"
   ]
  },
  {
   "cell_type": "code",
   "execution_count": 15,
   "id": "20eaa5b1-544e-4d53-921c-af1008f55cd4",
   "metadata": {},
   "outputs": [],
   "source": [
    "categorical_transformer = OneHotEncoder(handle_unknown='ignore')\n",
    "numerical_transformer = StandardScaler()\n",
    "\n",
    "preprocessor = ColumnTransformer(\n",
    "    transformers=[\n",
    "        ('cat', categorical_transformer, categorical_features),\n",
    "        ('num', numerical_transformer, numerical_features)\n",
    "    ])"
   ]
  },
  {
   "cell_type": "code",
   "execution_count": 16,
   "id": "2335957d-412f-4feb-b6d7-fce29ffe812f",
   "metadata": {},
   "outputs": [],
   "source": [
    "xgb = XGBRegressor(random_state=42)\n",
    "xgb_pipeline = Pipeline(steps=[('preprocessor', preprocessor), ('xgb', xgb)])\n",
    "xgb_pipeline.fit(X_train, y_train)\n",
    "xgb_predictions = xgb_pipeline.predict(X_test)"
   ]
  },
  {
   "cell_type": "code",
   "execution_count": 18,
   "id": "03adcdda-1a1d-40f4-9171-1b90b9df7ed0",
   "metadata": {},
   "outputs": [
    {
     "name": "stderr",
     "output_type": "stream",
     "text": [
      "c:\\users\\amanc\\appdata\\local\\programs\\python\\python38\\lib\\site-packages\\pytorch_tabnet\\abstract_model.py:82: UserWarning: Device used : cpu\n",
      "  warnings.warn(f\"Device used : {self.device}\")\n",
      "c:\\users\\amanc\\appdata\\local\\programs\\python\\python38\\lib\\site-packages\\pytorch_tabnet\\abstract_model.py:687: UserWarning: No early stopping will be performed, last training weights will be used.\n",
      "  warnings.warn(wrn_msg)\n"
     ]
    },
    {
     "name": "stdout",
     "output_type": "stream",
     "text": [
      "epoch 0  | loss: 1128.46497|  0:00:00s\n",
      "epoch 1  | loss: 1044.66548|  0:00:01s\n",
      "epoch 2  | loss: 895.12332|  0:00:01s\n",
      "epoch 3  | loss: 682.63427|  0:00:02s\n",
      "epoch 4  | loss: 614.97234|  0:00:02s\n",
      "epoch 5  | loss: 516.15947|  0:00:02s\n",
      "epoch 6  | loss: 530.74181|  0:00:03s\n",
      "epoch 7  | loss: 515.57323|  0:00:03s\n",
      "epoch 8  | loss: 532.18896|  0:00:04s\n",
      "epoch 9  | loss: 546.98962|  0:00:04s\n",
      "epoch 10 | loss: 527.54711|  0:00:05s\n",
      "epoch 11 | loss: 512.62007|  0:00:05s\n",
      "epoch 12 | loss: 508.3286|  0:00:06s\n",
      "epoch 13 | loss: 513.76862|  0:00:06s\n",
      "epoch 14 | loss: 524.97698|  0:00:07s\n",
      "epoch 15 | loss: 505.27636|  0:00:07s\n",
      "epoch 16 | loss: 507.66772|  0:00:08s\n",
      "epoch 17 | loss: 541.45958|  0:00:08s\n",
      "epoch 18 | loss: 532.8063|  0:00:09s\n",
      "epoch 19 | loss: 463.72716|  0:00:09s\n",
      "epoch 20 | loss: 509.71211|  0:00:10s\n",
      "epoch 21 | loss: 496.12171|  0:00:10s\n",
      "epoch 22 | loss: 490.74509|  0:00:11s\n",
      "epoch 23 | loss: 511.87831|  0:00:11s\n",
      "epoch 24 | loss: 537.27157|  0:00:11s\n",
      "epoch 25 | loss: 466.3627|  0:00:12s\n",
      "epoch 26 | loss: 487.03501|  0:00:12s\n",
      "epoch 27 | loss: 516.27753|  0:00:13s\n",
      "epoch 28 | loss: 523.6685|  0:00:13s\n",
      "epoch 29 | loss: 541.94871|  0:00:14s\n",
      "epoch 30 | loss: 489.47472|  0:00:14s\n",
      "epoch 31 | loss: 502.73961|  0:00:15s\n",
      "epoch 32 | loss: 529.01895|  0:00:15s\n",
      "epoch 33 | loss: 509.44232|  0:00:16s\n",
      "epoch 34 | loss: 457.14545|  0:00:16s\n",
      "epoch 35 | loss: 523.75844|  0:00:17s\n",
      "epoch 36 | loss: 482.44888|  0:00:17s\n",
      "epoch 37 | loss: 508.42784|  0:00:18s\n",
      "epoch 38 | loss: 486.42342|  0:00:18s\n",
      "epoch 39 | loss: 459.77855|  0:00:19s\n",
      "epoch 40 | loss: 504.5673|  0:00:19s\n",
      "epoch 41 | loss: 502.0664|  0:00:20s\n",
      "epoch 42 | loss: 514.56649|  0:00:20s\n",
      "epoch 43 | loss: 495.78776|  0:00:21s\n",
      "epoch 44 | loss: 509.56965|  0:00:21s\n",
      "epoch 45 | loss: 495.30029|  0:00:22s\n",
      "epoch 46 | loss: 470.97584|  0:00:22s\n",
      "epoch 47 | loss: 526.37048|  0:00:23s\n",
      "epoch 48 | loss: 490.12069|  0:00:23s\n",
      "epoch 49 | loss: 454.60512|  0:00:24s\n",
      "epoch 50 | loss: 515.35738|  0:00:24s\n",
      "epoch 51 | loss: 462.67257|  0:00:25s\n",
      "epoch 52 | loss: 472.296 |  0:00:25s\n",
      "epoch 53 | loss: 515.87848|  0:00:26s\n",
      "epoch 54 | loss: 472.87659|  0:00:26s\n",
      "epoch 55 | loss: 502.56653|  0:00:27s\n",
      "epoch 56 | loss: 486.44978|  0:00:27s\n",
      "epoch 57 | loss: 504.02428|  0:00:28s\n",
      "epoch 58 | loss: 471.41104|  0:00:28s\n",
      "epoch 59 | loss: 462.13725|  0:00:29s\n",
      "epoch 60 | loss: 502.97982|  0:00:29s\n",
      "epoch 61 | loss: 500.00987|  0:00:30s\n",
      "epoch 62 | loss: 488.21392|  0:00:30s\n",
      "epoch 63 | loss: 489.99122|  0:00:31s\n",
      "epoch 64 | loss: 479.67374|  0:00:31s\n",
      "epoch 65 | loss: 494.3644|  0:00:31s\n",
      "epoch 66 | loss: 492.81312|  0:00:32s\n",
      "epoch 67 | loss: 448.66578|  0:00:32s\n",
      "epoch 68 | loss: 439.57749|  0:00:33s\n",
      "epoch 69 | loss: 451.47336|  0:00:33s\n",
      "epoch 70 | loss: 464.65214|  0:00:34s\n",
      "epoch 71 | loss: 497.13696|  0:00:34s\n",
      "epoch 72 | loss: 494.53082|  0:00:35s\n",
      "epoch 73 | loss: 484.56847|  0:00:35s\n",
      "epoch 74 | loss: 488.51062|  0:00:36s\n",
      "epoch 75 | loss: 473.11301|  0:00:36s\n",
      "epoch 76 | loss: 493.58414|  0:00:37s\n",
      "epoch 77 | loss: 506.18652|  0:00:37s\n",
      "epoch 78 | loss: 520.66689|  0:00:38s\n",
      "epoch 79 | loss: 498.74809|  0:00:38s\n",
      "epoch 80 | loss: 494.05244|  0:00:39s\n",
      "epoch 81 | loss: 505.86506|  0:00:39s\n",
      "epoch 82 | loss: 511.58931|  0:00:40s\n",
      "epoch 83 | loss: 470.22665|  0:00:40s\n",
      "epoch 84 | loss: 474.1945|  0:00:40s\n",
      "epoch 85 | loss: 465.98848|  0:00:41s\n",
      "epoch 86 | loss: 510.74546|  0:00:41s\n",
      "epoch 87 | loss: 473.81181|  0:00:42s\n",
      "epoch 88 | loss: 467.63389|  0:00:42s\n",
      "epoch 89 | loss: 493.327 |  0:00:43s\n",
      "epoch 90 | loss: 494.95053|  0:00:43s\n",
      "epoch 91 | loss: 503.97677|  0:00:44s\n",
      "epoch 92 | loss: 451.82704|  0:00:44s\n",
      "epoch 93 | loss: 475.46713|  0:00:45s\n",
      "epoch 94 | loss: 441.07844|  0:00:45s\n",
      "epoch 95 | loss: 514.61279|  0:00:46s\n",
      "epoch 96 | loss: 496.08521|  0:00:46s\n",
      "epoch 97 | loss: 486.70152|  0:00:47s\n",
      "epoch 98 | loss: 468.14016|  0:00:47s\n",
      "epoch 99 | loss: 474.92899|  0:00:48s\n"
     ]
    }
   ],
   "source": [
    "y_train = y_train.values.reshape(-1, 1)\n",
    "\n",
    "tabnet = TabNetRegressor(seed=42)\n",
    "tabnet_pipeline = Pipeline(steps=[('preprocessor', preprocessor), ('tabnet', tabnet)])\n",
    "tabnet_pipeline.fit(X_train, y_train)\n",
    "tabnet_predictions = tabnet_pipeline.predict(X_test)"
   ]
  },
  {
   "cell_type": "code",
   "execution_count": 21,
   "id": "c614a496-8c5d-437c-9489-0eedbf61461e",
   "metadata": {},
   "outputs": [],
   "source": [
    "# XGBoost predictions\n",
    "xgb_predictions_df = pd.DataFrame({\n",
    "    'id': ids_test,\n",
    "    'pm2_5': xgb_predictions\n",
    "})\n",
    "xgb_predictions_df.to_csv('test_predictions_xgb_cld.csv', index=False)\n",
    "\n",
    "# TabNet predictions\n",
    "tabnet_predictions = tabnet_predictions.squeeze()  # Flatten the array\n",
    "tabnet_predictions_df = pd.DataFrame({\n",
    "    'id': ids_test,\n",
    "    'pm2_5': tabnet_predictions\n",
    "})\n",
    "tabnet_predictions_df.to_csv('test_predictions_tabnet_cld.csv', index=False)"
   ]
  },
  {
   "cell_type": "code",
   "execution_count": null,
   "id": "8e1ed40f-9796-4165-871d-9a6e9a20c612",
   "metadata": {},
   "outputs": [],
   "source": []
  }
 ],
 "metadata": {
  "kernelspec": {
   "display_name": "Python 3 (ipykernel)",
   "language": "python",
   "name": "python3"
  },
  "language_info": {
   "codemirror_mode": {
    "name": "ipython",
    "version": 3
   },
   "file_extension": ".py",
   "mimetype": "text/x-python",
   "name": "python",
   "nbconvert_exporter": "python",
   "pygments_lexer": "ipython3",
   "version": "3.8.0"
  }
 },
 "nbformat": 4,
 "nbformat_minor": 5
}
