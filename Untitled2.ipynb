{
 "cells": [
  {
   "cell_type": "code",
   "execution_count": 1,
   "id": "9379efcd-f253-4f21-af27-a21b197b0bce",
   "metadata": {},
   "outputs": [],
   "source": [
    "from sklearn.ensemble import GradientBoostingRegressor\n",
    "from sklearn.metrics import mean_squared_error\n",
    "from sklearn.model_selection import train_test_split\n",
    "import pandas as pd\n",
    "import numpy as np"
   ]
  },
  {
   "cell_type": "code",
   "execution_count": 2,
   "id": "8b3cfdf4-38bf-4194-9e02-27d35645a619",
   "metadata": {},
   "outputs": [],
   "source": [
    "df = pd.read_csv('Train.csv')\n",
    "df1 = pd.read_csv('Test.csv')"
   ]
  },
  {
   "cell_type": "code",
   "execution_count": 3,
   "id": "9d1af616-13ac-4d06-a2d2-f2c2c3333e74",
   "metadata": {},
   "outputs": [],
   "source": [
    "for data in [df, df1]:\n",
    "    data['date'] = pd.to_datetime(data['date'])\n",
    "    data['year'] = data['date'].dt.year\n",
    "    data['month'] = data['date'].dt.month\n",
    "    data['day'] = data['date'].dt.day"
   ]
  },
  {
   "cell_type": "code",
   "execution_count": 4,
   "id": "d373709e-2739-44f3-af15-eaccbc9d4ff8",
   "metadata": {},
   "outputs": [],
   "source": [
    "drop_columns = ['id', 'site_id', 'date', 'city', 'country'] "
   ]
  },
  {
   "cell_type": "code",
   "execution_count": 5,
   "id": "9c9b8420-7cce-4d06-a5bd-42275c5e36c8",
   "metadata": {},
   "outputs": [],
   "source": [
    "for data in [df,df1]:\n",
    "    for col in data.select_dtypes(include=np.number).columns:\n",
    "        if data[col].isnull().any():\n",
    "            data[col].fillna(data[col].median(), inplace=True)"
   ]
  },
  {
   "cell_type": "code",
   "execution_count": 6,
   "id": "3063afad-3c2e-41ce-bef9-ab615eaddf53",
   "metadata": {},
   "outputs": [],
   "source": [
    "X_train = df.drop(columns=drop_columns + ['pm2_5'])\n",
    "y_train = df['pm2_5']"
   ]
  },
  {
   "cell_type": "code",
   "execution_count": 7,
   "id": "efef74e5-0ec0-425d-baef-cd279200d4d5",
   "metadata": {},
   "outputs": [],
   "source": [
    "X_test = df1.drop(columns=drop_columns)\n",
    "ids_test = df1['id'] "
   ]
  },
  {
   "cell_type": "code",
   "execution_count": 8,
   "id": "2d3c94f0-100c-4801-a731-61f04e118402",
   "metadata": {},
   "outputs": [
    {
     "ename": "NameError",
     "evalue": "name 'X' is not defined",
     "output_type": "error",
     "traceback": [
      "\u001b[1;31m---------------------------------------------------------------------------\u001b[0m",
      "\u001b[1;31mNameError\u001b[0m                                 Traceback (most recent call last)",
      "Cell \u001b[1;32mIn[8], line 1\u001b[0m\n\u001b[1;32m----> 1\u001b[0m X_train, X_test, y_train, y_test \u001b[38;5;241m=\u001b[39m train_test_split(\u001b[43mX\u001b[49m, y, test_size\u001b[38;5;241m=\u001b[39m\u001b[38;5;241m0.2\u001b[39m, random_state\u001b[38;5;241m=\u001b[39m\u001b[38;5;241m42\u001b[39m)\n",
      "\u001b[1;31mNameError\u001b[0m: name 'X' is not defined"
     ]
    }
   ],
   "source": [
    "X_train, X_test, y_train, y_test = train_test_split(X, y, test_size=0.2, random_state=42)"
   ]
  },
  {
   "cell_type": "code",
   "execution_count": 66,
   "id": "3b302978-aea5-406b-9e6e-9b7acb2e9651",
   "metadata": {},
   "outputs": [],
   "source": [
    "X_train_reshaped = np.reshape(X_train, (X_train.shape[0], 1, X_train.shape[1]))\n",
    "model = Sequential()"
   ]
  },
  {
   "cell_type": "code",
   "execution_count": 67,
   "id": "4d2c3fc6-9aed-4a50-b10b-ce19f593dfd6",
   "metadata": {},
   "outputs": [],
   "source": [
    "model.add(LSTM(units=50, input_shape=(1, X_train.shape[1])))"
   ]
  },
  {
   "cell_type": "code",
   "execution_count": 68,
   "id": "ed35e6bf-5a41-43b3-83e1-556029147c9d",
   "metadata": {},
   "outputs": [],
   "source": [
    "model.add(Dense(units=1))"
   ]
  },
  {
   "cell_type": "code",
   "execution_count": 69,
   "id": "281eff3a-c6d2-4b9b-9c1d-c80053a4ff74",
   "metadata": {},
   "outputs": [],
   "source": [
    "model.compile(optimizer='adam', loss='mean_squared_error')"
   ]
  },
  {
   "cell_type": "code",
   "execution_count": 71,
   "id": "d087ba37-4f15-44f2-9b91-4da5572e0689",
   "metadata": {},
   "outputs": [
    {
     "name": "stdout",
     "output_type": "stream",
     "text": [
      "Epoch 1/20\n",
      "253/253 [==============================] - 1s 3ms/step - loss: 656.6430\n",
      "Epoch 2/20\n",
      "253/253 [==============================] - 1s 3ms/step - loss: 644.0997\n",
      "Epoch 3/20\n",
      "253/253 [==============================] - 1s 3ms/step - loss: 635.1059\n",
      "Epoch 4/20\n",
      "253/253 [==============================] - 1s 3ms/step - loss: 628.9492\n",
      "Epoch 5/20\n",
      "253/253 [==============================] - 1s 3ms/step - loss: 624.8381\n",
      "Epoch 6/20\n",
      "253/253 [==============================] - 1s 3ms/step - loss: 622.2738\n",
      "Epoch 7/20\n",
      "253/253 [==============================] - 1s 3ms/step - loss: 620.7000\n",
      "Epoch 8/20\n",
      "253/253 [==============================] - 1s 3ms/step - loss: 619.8033\n",
      "Epoch 9/20\n",
      "253/253 [==============================] - 1s 3ms/step - loss: 619.3424\n",
      "Epoch 10/20\n",
      "253/253 [==============================] - 1s 3ms/step - loss: 619.1127\n",
      "Epoch 11/20\n",
      "253/253 [==============================] - 1s 3ms/step - loss: 619.0027\n",
      "Epoch 12/20\n",
      "253/253 [==============================] - 1s 3ms/step - loss: 618.9407\n",
      "Epoch 13/20\n",
      "253/253 [==============================] - 1s 3ms/step - loss: 618.9222\n",
      "Epoch 14/20\n",
      "253/253 [==============================] - 1s 3ms/step - loss: 618.9489\n",
      "Epoch 15/20\n",
      "253/253 [==============================] - 1s 3ms/step - loss: 618.9210\n",
      "Epoch 16/20\n",
      "253/253 [==============================] - 1s 3ms/step - loss: 618.9256\n",
      "Epoch 17/20\n",
      "253/253 [==============================] - 1s 3ms/step - loss: 618.9178\n",
      "Epoch 18/20\n",
      "253/253 [==============================] - 1s 3ms/step - loss: 618.9207\n",
      "Epoch 19/20\n",
      "253/253 [==============================] - 1s 3ms/step - loss: 618.9421\n",
      "Epoch 20/20\n",
      "253/253 [==============================] - 1s 3ms/step - loss: 618.9310\n"
     ]
    },
    {
     "data": {
      "text/plain": [
       "<keras.src.callbacks.History at 0x1ef0b267a60>"
      ]
     },
     "execution_count": 71,
     "metadata": {},
     "output_type": "execute_result"
    }
   ],
   "source": [
    "model.fit(X_train_reshaped, y_train, epochs=20, batch_size=32)"
   ]
  },
  {
   "cell_type": "code",
   "execution_count": 73,
   "id": "4dcb8da1-304e-49c4-b2d3-b6f203a9dfac",
   "metadata": {},
   "outputs": [
    {
     "name": "stdout",
     "output_type": "stream",
     "text": [
      "87/87 [==============================] - 1s 1ms/step\n"
     ]
    }
   ],
   "source": [
    "X_test_reshaped = np.reshape(X_test, (X_test.shape[0], 1, X_test.shape[1]))\n",
    "\n",
    "# Make predictions\n",
    "pred = model.predict(X_test_reshaped)"
   ]
  },
  {
   "cell_type": "code",
   "execution_count": 74,
   "id": "96efda2c-0adc-488c-96f8-47361de209c0",
   "metadata": {},
   "outputs": [],
   "source": [
    "predictions_df = pd.DataFrame({\n",
    "    'id': ids_test,\n",
    "    'pm2_5': pred.flatten()\n",
    "})\n",
    "\n",
    "# Save the predictions to a CSV file\n",
    "predictions_df.to_csv('test_predictions_sequential.csv', index=False)"
   ]
  },
  {
   "cell_type": "code",
   "execution_count": 77,
   "id": "a58ed657-c4f4-4191-9c9e-8d6b2fb92d73",
   "metadata": {},
   "outputs": [],
   "source": [
    "k1 = pd.read_csv('test_predictions_svr.csv')\n",
    "k2 = pd.read_csv('test_predictions_svr_optimized.csv')"
   ]
  },
  {
   "cell_type": "code",
   "execution_count": 80,
   "id": "3deb2f93-9e2d-492d-a985-575d513b216a",
   "metadata": {},
   "outputs": [],
   "source": [
    "predictions_df = pd.DataFrame({\n",
    "    'id': ids_test,\n",
    "    'pm2_5': (k1['predicted_pm2_5'] + k2['pm2_5']) / 2\n",
    "})\n",
    "\n",
    "# Save the predictions to a CSV file\n",
    "predictions_df.to_csv('test_predictions_avrg_1.csv', index=False)"
   ]
  },
  {
   "cell_type": "code",
   "execution_count": 79,
   "id": "7763565b-b2fb-46b9-b10a-987029964b48",
   "metadata": {},
   "outputs": [
    {
     "data": {
      "text/html": [
       "<div>\n",
       "<style scoped>\n",
       "    .dataframe tbody tr th:only-of-type {\n",
       "        vertical-align: middle;\n",
       "    }\n",
       "\n",
       "    .dataframe tbody tr th {\n",
       "        vertical-align: top;\n",
       "    }\n",
       "\n",
       "    .dataframe thead th {\n",
       "        text-align: right;\n",
       "    }\n",
       "</style>\n",
       "<table border=\"1\" class=\"dataframe\">\n",
       "  <thead>\n",
       "    <tr style=\"text-align: right;\">\n",
       "      <th></th>\n",
       "      <th>id</th>\n",
       "      <th>predicted_pm2_5</th>\n",
       "    </tr>\n",
       "  </thead>\n",
       "  <tbody>\n",
       "    <tr>\n",
       "      <th>0</th>\n",
       "      <td>id_ihxgrbq8bw</td>\n",
       "      <td>20.569305</td>\n",
       "    </tr>\n",
       "    <tr>\n",
       "      <th>1</th>\n",
       "      <td>id_dg6s4fhiwe</td>\n",
       "      <td>21.897770</td>\n",
       "    </tr>\n",
       "    <tr>\n",
       "      <th>2</th>\n",
       "      <td>id_f7hwwtmuzp</td>\n",
       "      <td>18.380387</td>\n",
       "    </tr>\n",
       "    <tr>\n",
       "      <th>3</th>\n",
       "      <td>id_ioese5awdg</td>\n",
       "      <td>21.125231</td>\n",
       "    </tr>\n",
       "    <tr>\n",
       "      <th>4</th>\n",
       "      <td>id_hdw320zpls</td>\n",
       "      <td>19.796313</td>\n",
       "    </tr>\n",
       "    <tr>\n",
       "      <th>...</th>\n",
       "      <td>...</td>\n",
       "      <td>...</td>\n",
       "    </tr>\n",
       "    <tr>\n",
       "      <th>2778</th>\n",
       "      <td>id_5yblexf7zp</td>\n",
       "      <td>22.989826</td>\n",
       "    </tr>\n",
       "    <tr>\n",
       "      <th>2779</th>\n",
       "      <td>id_c9cycuvetl</td>\n",
       "      <td>26.844272</td>\n",
       "    </tr>\n",
       "    <tr>\n",
       "      <th>2780</th>\n",
       "      <td>id_8xu1ardxni</td>\n",
       "      <td>29.331057</td>\n",
       "    </tr>\n",
       "    <tr>\n",
       "      <th>2781</th>\n",
       "      <td>id_aumy97t1iu</td>\n",
       "      <td>33.789912</td>\n",
       "    </tr>\n",
       "    <tr>\n",
       "      <th>2782</th>\n",
       "      <td>id_cv1dq53hzh</td>\n",
       "      <td>28.677062</td>\n",
       "    </tr>\n",
       "  </tbody>\n",
       "</table>\n",
       "<p>2783 rows × 2 columns</p>\n",
       "</div>"
      ],
      "text/plain": [
       "                 id  predicted_pm2_5\n",
       "0     id_ihxgrbq8bw        20.569305\n",
       "1     id_dg6s4fhiwe        21.897770\n",
       "2     id_f7hwwtmuzp        18.380387\n",
       "3     id_ioese5awdg        21.125231\n",
       "4     id_hdw320zpls        19.796313\n",
       "...             ...              ...\n",
       "2778  id_5yblexf7zp        22.989826\n",
       "2779  id_c9cycuvetl        26.844272\n",
       "2780  id_8xu1ardxni        29.331057\n",
       "2781  id_aumy97t1iu        33.789912\n",
       "2782  id_cv1dq53hzh        28.677062\n",
       "\n",
       "[2783 rows x 2 columns]"
      ]
     },
     "execution_count": 79,
     "metadata": {},
     "output_type": "execute_result"
    }
   ],
   "source": [
    "k1"
   ]
  },
  {
   "cell_type": "code",
   "execution_count": null,
   "id": "b6d536e4-f2d4-4bec-a4ca-6486f9fcde77",
   "metadata": {},
   "outputs": [],
   "source": []
  }
 ],
 "metadata": {
  "kernelspec": {
   "display_name": "Python 3 (ipykernel)",
   "language": "python",
   "name": "python3"
  },
  "language_info": {
   "codemirror_mode": {
    "name": "ipython",
    "version": 3
   },
   "file_extension": ".py",
   "mimetype": "text/x-python",
   "name": "python",
   "nbconvert_exporter": "python",
   "pygments_lexer": "ipython3",
   "version": "3.8.0"
  }
 },
 "nbformat": 4,
 "nbformat_minor": 5
}
